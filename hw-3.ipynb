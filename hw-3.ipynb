{
 "cells": [
  {
   "cell_type": "code",
   "execution_count": null,
   "metadata": {},
   "outputs": [],
   "source": [
    "import numpy as np\n",
    "import matplotlib.pyplot as plt"
   ]
  },
  {
   "cell_type": "code",
   "execution_count": null,
   "metadata": {},
   "outputs": [],
   "source": [
    "n = 1000\n",
    "x = np.arange(n, dtype=float)\n",
    "x *= 2.0*np.pi /float(n-1)\n"
   ]
  },
  {
   "cell_type": "code",
   "execution_count": null,
   "metadata": {},
   "outputs": [],
   "source": [
    "y = 5.5*np.cos(2*x) + 5.5\n",
    "plt.ylim([-1, 10])\n",
    "z = 0.02*np.exp(x)\n",
    "a = 0.25*(x**2) + 0.1*np.sin(10*x)\n",
    "plt.plot(x, y, label=\"y(x1)\")\n",
    "plt.plot(x, z, label=\"y(x2)\")\n",
    "plt.plot(x, a, label=\"y(x3)\")\n",
    "plt.xlabel('Time in ASTR 119')\n",
    "plt.ylabel('Measures of Awesomeness')\n",
    "plt.legend()\n",
    "plt.show()"
   ]
  }
 ],
 "metadata": {
  "kernelspec": {
   "display_name": "Python 3",
   "language": "python",
   "name": "python3"
  },
  "language_info": {
   "codemirror_mode": {
    "name": "ipython",
    "version": 3
   },
   "file_extension": ".py",
   "mimetype": "text/x-python",
   "name": "python",
   "nbconvert_exporter": "python",
   "pygments_lexer": "ipython3",
   "version": "3.8.6"
  }
 },
 "nbformat": 4,
 "nbformat_minor": 4
}
